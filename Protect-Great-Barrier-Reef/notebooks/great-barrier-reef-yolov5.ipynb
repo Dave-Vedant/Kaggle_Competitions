{
 "cells": [
  {
   "cell_type": "markdown",
   "metadata": {},
   "source": [
    "### Tensorflow - Help Perotect the Great Barrier Reef"
   ]
  },
  {
   "cell_type": "code",
   "execution_count": 5,
   "metadata": {},
   "outputs": [],
   "source": [
    "# install libraries\n",
    "!pip3 install -qU wandb\n",
    "!pip3 install -qU bbox-utility "
   ]
  },
  {
   "cell_type": "code",
   "execution_count": 7,
   "metadata": {},
   "outputs": [],
   "source": [
    "# import libraries\n",
    "import os\n",
    "import sys\n",
    "import shutil      # file copy, collection and move on highlevel\n",
    "\n",
    "import cv2\n",
    "import glob       # beside of (os.listdir) it used. -- used for getting file in pattern ...\n",
    "\n",
    "import numpy as np\n",
    "import pandas as pd\n",
    "import matplotlib.pyplot as plt\n",
    "\n",
    "from tqdm.notebook import tqdm   # progress bar, use with wraper tqdm(*******)\n",
    "tqdm.pandas()\n",
    "from joblib import Parallel, delayed    # beside of pickle it used. ...used for save the model and others ...\n",
    "from IPython.display import display"
   ]
  },
  {
   "cell_type": "markdown",
   "metadata": {},
   "source": [
    "#### Key Points\n",
    "\n",
    "* One have to submit prediction using the provided python time-series API, which makes this competition different from previous Object Detection Competitions.\n",
    "* Each prediction row needs to include all bounding boxes for the image. Submission is format seems also COCO which means [x_min, y_min, width, height]\n",
    "* Copmetition metric F2 tolerates some false positives(FP) in order to ensure very few starfish are missed. Which means tackling false negatives(FN) is more important than false positives(FP)\n",
    "\n",
    "F2 = 5 * p * r / 4 (p+r)"
   ]
  },
  {
   "cell_type": "markdown",
   "metadata": {},
   "source": [
    "#### Track our experiments using weights and Biases\n",
    "\n",
    "* Track, compare, and visualize ML experiments\n",
    "* Get live metrics, terminal logs, and system stats streamed to the centralized dashboard.\n",
    "* Explain how your model works, show graphs of how model versions improved, discuss bugs, and demonstrate progress towards milestones."
   ]
  },
  {
   "cell_type": "code",
   "execution_count": null,
   "metadata": {},
   "outputs": [],
   "source": [
    "import wandb\n",
    "wandb.login()\n",
    "wandb.init(project='great-barrier-reef-yolov5')"
   ]
  },
  {
   "cell_type": "markdown",
   "metadata": {},
   "source": [
    "#### MetaData\n",
    "\n",
    "* train_images/ - Folder containing training set photos of the form video_{video_id}/{video_frame}.jpg.\n",
    "\n",
    "* [train/test].csv - Metadata for the images. As with other test files, most of the test metadata data is only available to your notebook upon submission. Just the first few rows available for download.\n",
    "\n",
    "* video_id - ID number of the video the image was part of. The video ids are not meaningfully ordered.\n",
    "\n",
    "* video_frame - The frame number of the image within the video. Expect to see occasional gaps in the frame number from when the diver surfaced.\n",
    "* sequence - ID of a gap-free subset of a given video. The sequence ids are not meaningfully ordered.\n",
    "* sequence_frame - The frame number within a given sequence.\n",
    "* image_id - ID code for the image, in the format {video_id}-{video_frame}\n",
    "* annotations - The bounding boxes of any starfish detections in a string format that can be evaluated directly with Python. Does not use the * same format as the predictions you will submit. Not available in test.csv. A bounding box is described by the pixel coordinate (x_min, y_min) of its lower left corner within the image together with its width and height in pixels --> (COCO format)."
   ]
  },
  {
   "cell_type": "code",
   "execution_count": 34,
   "metadata": {},
   "outputs": [],
   "source": [
    "# Parameters\n",
    "FOLD = 1\n",
    "DIM = 3000\n",
    "MODEL = 'yolov5s6'\n",
    "BATCH = 4\n",
    "EPOCHS = 7\n",
    "OPTIMIZER = 'Adam'\n",
    "PROJECT = 'great-barrier-reef'\n",
    "\n",
    "import time\n",
    "TIME = time.time_ns()\n",
    "NAME = f'{MODEL}-dim{DIM}-fold{FOLD}-{TIME}'              # time is dynamic incase if we forget to change\n",
    "\n",
    "ROOT_DIR = '/home/dave117/MLOps/projects/Kaggle_Competitions/Protect-Great-Barrier-Reef/Data/raw'\n",
    "IMAGE_DIR = '/home/dave117/MLOps/projects/Kaggle_Competitions/Protect-Great-Barrier-Reef/Data/interim/images'\n",
    "LABLE_DIR = '/home/dave117/MLOps/projects/Kaggle_Competitions/Protect-Great-Barrier-Reef/Data/interim/lables'"
   ]
  },
  {
   "cell_type": "markdown",
   "metadata": {},
   "source": [
    "#### create directories and path "
   ]
  },
  {
   "cell_type": "code",
   "execution_count": 35,
   "metadata": {},
   "outputs": [
    {
     "data": {
      "application/vnd.jupyter.widget-view+json": {
       "model_id": "f04be42893874afd883556faa521a76b",
       "version_major": 2,
       "version_minor": 0
      },
      "text/plain": [
       "  0%|          | 0/23501 [00:00<?, ?it/s]"
      ]
     },
     "metadata": {},
     "output_type": "display_data"
    },
    {
     "data": {
      "text/html": [
       "<div>\n",
       "<style scoped>\n",
       "    .dataframe tbody tr th:only-of-type {\n",
       "        vertical-align: middle;\n",
       "    }\n",
       "\n",
       "    .dataframe tbody tr th {\n",
       "        vertical-align: top;\n",
       "    }\n",
       "\n",
       "    .dataframe thead th {\n",
       "        text-align: right;\n",
       "    }\n",
       "</style>\n",
       "<table border=\"1\" class=\"dataframe\">\n",
       "  <thead>\n",
       "    <tr style=\"text-align: right;\">\n",
       "      <th></th>\n",
       "      <th>video_id</th>\n",
       "      <th>sequence</th>\n",
       "      <th>video_frame</th>\n",
       "      <th>sequence_frame</th>\n",
       "      <th>image_id</th>\n",
       "      <th>annotations</th>\n",
       "      <th>old_image_path</th>\n",
       "      <th>image_path</th>\n",
       "      <th>label_path</th>\n",
       "    </tr>\n",
       "  </thead>\n",
       "  <tbody>\n",
       "    <tr>\n",
       "      <th>0</th>\n",
       "      <td>0</td>\n",
       "      <td>40258</td>\n",
       "      <td>0</td>\n",
       "      <td>0</td>\n",
       "      <td>0-0</td>\n",
       "      <td>[]</td>\n",
       "      <td>/home/dave117/MLOps/projects/Kaggle_Competitio...</td>\n",
       "      <td>/home/dave117/MLOps/projects/Kaggle_Competitio...</td>\n",
       "      <td>/home/dave117/MLOps/projects/Kaggle_Competitio...</td>\n",
       "    </tr>\n",
       "    <tr>\n",
       "      <th>1</th>\n",
       "      <td>0</td>\n",
       "      <td>40258</td>\n",
       "      <td>1</td>\n",
       "      <td>1</td>\n",
       "      <td>0-1</td>\n",
       "      <td>[]</td>\n",
       "      <td>/home/dave117/MLOps/projects/Kaggle_Competitio...</td>\n",
       "      <td>/home/dave117/MLOps/projects/Kaggle_Competitio...</td>\n",
       "      <td>/home/dave117/MLOps/projects/Kaggle_Competitio...</td>\n",
       "    </tr>\n",
       "    <tr>\n",
       "      <th>2</th>\n",
       "      <td>0</td>\n",
       "      <td>40258</td>\n",
       "      <td>2</td>\n",
       "      <td>2</td>\n",
       "      <td>0-2</td>\n",
       "      <td>[]</td>\n",
       "      <td>/home/dave117/MLOps/projects/Kaggle_Competitio...</td>\n",
       "      <td>/home/dave117/MLOps/projects/Kaggle_Competitio...</td>\n",
       "      <td>/home/dave117/MLOps/projects/Kaggle_Competitio...</td>\n",
       "    </tr>\n",
       "    <tr>\n",
       "      <th>3</th>\n",
       "      <td>0</td>\n",
       "      <td>40258</td>\n",
       "      <td>3</td>\n",
       "      <td>3</td>\n",
       "      <td>0-3</td>\n",
       "      <td>[]</td>\n",
       "      <td>/home/dave117/MLOps/projects/Kaggle_Competitio...</td>\n",
       "      <td>/home/dave117/MLOps/projects/Kaggle_Competitio...</td>\n",
       "      <td>/home/dave117/MLOps/projects/Kaggle_Competitio...</td>\n",
       "    </tr>\n",
       "    <tr>\n",
       "      <th>4</th>\n",
       "      <td>0</td>\n",
       "      <td>40258</td>\n",
       "      <td>4</td>\n",
       "      <td>4</td>\n",
       "      <td>0-4</td>\n",
       "      <td>[]</td>\n",
       "      <td>/home/dave117/MLOps/projects/Kaggle_Competitio...</td>\n",
       "      <td>/home/dave117/MLOps/projects/Kaggle_Competitio...</td>\n",
       "      <td>/home/dave117/MLOps/projects/Kaggle_Competitio...</td>\n",
       "    </tr>\n",
       "  </tbody>\n",
       "</table>\n",
       "</div>"
      ],
      "text/plain": [
       "   video_id  sequence  video_frame  sequence_frame image_id annotations  \\\n",
       "0         0     40258            0               0      0-0          []   \n",
       "1         0     40258            1               1      0-1          []   \n",
       "2         0     40258            2               2      0-2          []   \n",
       "3         0     40258            3               3      0-3          []   \n",
       "4         0     40258            4               4      0-4          []   \n",
       "\n",
       "                                      old_image_path  \\\n",
       "0  /home/dave117/MLOps/projects/Kaggle_Competitio...   \n",
       "1  /home/dave117/MLOps/projects/Kaggle_Competitio...   \n",
       "2  /home/dave117/MLOps/projects/Kaggle_Competitio...   \n",
       "3  /home/dave117/MLOps/projects/Kaggle_Competitio...   \n",
       "4  /home/dave117/MLOps/projects/Kaggle_Competitio...   \n",
       "\n",
       "                                          image_path  \\\n",
       "0  /home/dave117/MLOps/projects/Kaggle_Competitio...   \n",
       "1  /home/dave117/MLOps/projects/Kaggle_Competitio...   \n",
       "2  /home/dave117/MLOps/projects/Kaggle_Competitio...   \n",
       "3  /home/dave117/MLOps/projects/Kaggle_Competitio...   \n",
       "4  /home/dave117/MLOps/projects/Kaggle_Competitio...   \n",
       "\n",
       "                                          label_path  \n",
       "0  /home/dave117/MLOps/projects/Kaggle_Competitio...  \n",
       "1  /home/dave117/MLOps/projects/Kaggle_Competitio...  \n",
       "2  /home/dave117/MLOps/projects/Kaggle_Competitio...  \n",
       "3  /home/dave117/MLOps/projects/Kaggle_Competitio...  \n",
       "4  /home/dave117/MLOps/projects/Kaggle_Competitio...  "
      ]
     },
     "metadata": {},
     "output_type": "display_data"
    }
   ],
   "source": [
    "df = pd.read_csv(f'{ROOT_DIR}/train.csv')\n",
    "df['old_image_path'] = f'{ROOT_DIR}/train_images/video_'+df.video_id.astype(str)+'/'+df.video_frame.astype(str)+'.jpg'\n",
    "df['image_path'] = f'{IMAGE_DIR}/'+ df.image_id + '.jpg'\n",
    "df['label_path'] = f'{LABLE_DIR}/'+df.image_id+'.txt'\n",
    "df['annotations'] = df['annotations'].progress_apply(eval)\n",
    "display(df.head(5))"
   ]
  },
  {
   "cell_type": "markdown",
   "metadata": {},
   "source": [
    "#### Number of BBoxs\n",
    "\n",
    "* It will display the number of images (in %) with box around the species."
   ]
  },
  {
   "cell_type": "code",
   "execution_count": 36,
   "metadata": {},
   "outputs": [
    {
     "data": {
      "application/vnd.jupyter.widget-view+json": {
       "model_id": "587e2293b53b47ad8235c6b875f1acbb",
       "version_major": 2,
       "version_minor": 0
      },
      "text/plain": [
       "  0%|          | 0/23501 [00:00<?, ?it/s]"
      ]
     },
     "metadata": {},
     "output_type": "display_data"
    },
    {
     "name": "stdout",
     "output_type": "stream",
     "text": [
      "No BBox: 79.07% | with BBox: 20.93%\n"
     ]
    }
   ],
   "source": [
    "df['num_bbox'] = df['annotations'].progress_apply(lambda x: len(x))\n",
    "data = (df.num_bbox>0).value_counts(normalize=True)*100\n",
    "print(f\"No BBox: {data[0]:0.2f}% | with BBox: {data[1]:0.2f}%\")"
   ]
  },
  {
   "cell_type": "markdown",
   "metadata": {},
   "source": [
    "#### Data Cleaning"
   ]
  },
  {
   "cell_type": "code",
   "execution_count": 40,
   "metadata": {},
   "outputs": [],
   "source": [
    "if True:\n",
    "    df =df.query('num_bbox>0')"
   ]
  },
  {
   "cell_type": "markdown",
   "metadata": {},
   "source": [
    "#### Write images to new directory"
   ]
  },
  {
   "cell_type": "code",
   "execution_count": null,
   "metadata": {},
   "outputs": [],
   "source": [
    "cl"
   ]
  }
 ],
 "metadata": {
  "interpreter": {
   "hash": "916dbcbb3f70747c44a77c7bcd40155683ae19c65e1c03b4aa3499c5328201f1"
  },
  "kernelspec": {
   "display_name": "Python 3.8.10 64-bit",
   "language": "python",
   "name": "python3"
  },
  "language_info": {
   "codemirror_mode": {
    "name": "ipython",
    "version": 3
   },
   "file_extension": ".py",
   "mimetype": "text/x-python",
   "name": "python",
   "nbconvert_exporter": "python",
   "pygments_lexer": "ipython3",
   "version": "3.8.12"
  },
  "orig_nbformat": 4
 },
 "nbformat": 4,
 "nbformat_minor": 2
}
